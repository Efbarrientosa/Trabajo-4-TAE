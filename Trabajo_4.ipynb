{
  "cells": [
    {
      "cell_type": "code",
      "execution_count": 113,
      "id": "f7252d81",
      "metadata": {
        "_cell_guid": "b1076dfc-b9ad-4769-8c92-a6c4dae69d19",
        "_uuid": "8f2839f25d086af736a60e9eeb907d3b93b6e0e5",
        "execution": {
          "iopub.execute_input": "2022-11-24T06:52:20.581425Z",
          "iopub.status.busy": "2022-11-24T06:52:20.580946Z",
          "iopub.status.idle": "2022-11-24T06:52:20.593274Z",
          "shell.execute_reply": "2022-11-24T06:52:20.592457Z"
        },
        "papermill": {
          "duration": 0.031744,
          "end_time": "2022-11-24T06:52:20.596664",
          "exception": false,
          "start_time": "2022-11-24T06:52:20.564920",
          "status": "completed"
        },
        "tags": [],
        "id": "f7252d81"
      },
      "outputs": [],
      "source": [
        "import seaborn as sns\n",
        "import matplotlib.pyplot as plt\n",
        "import numpy as np \n",
        "import pandas as pd \n",
        "import os\n"
      ]
    },
    {
      "cell_type": "code",
      "execution_count": null,
      "id": "03b3f34c",
      "metadata": {
        "execution": {
          "iopub.execute_input": "2022-11-24T06:52:22.428390Z",
          "iopub.status.busy": "2022-11-24T06:52:22.427203Z",
          "iopub.status.idle": "2022-11-24T06:52:22.455156Z",
          "shell.execute_reply": "2022-11-24T06:52:22.453846Z"
        },
        "papermill": {
          "duration": 0.043682,
          "end_time": "2022-11-24T06:52:22.457605",
          "exception": false,
          "start_time": "2022-11-24T06:52:22.413923",
          "status": "completed"
        },
        "tags": [],
        "id": "03b3f34c"
      },
      "outputs": [],
      "source": [
        "train=pd.read_csv('train.csv')\n",
        "test=pd.read_csv('test.csv')\n",
        "train_update=pd.read_csv('train_updates_20220929.csv')\n",
        "test\n"
      ]
    },
    {
      "cell_type": "code",
      "execution_count": 115,
      "id": "7dce55f8",
      "metadata": {
        "execution": {
          "iopub.execute_input": "2022-11-24T06:52:22.483815Z",
          "iopub.status.busy": "2022-11-24T06:52:22.483064Z",
          "iopub.status.idle": "2022-11-24T06:52:22.509530Z",
          "shell.execute_reply": "2022-11-24T06:52:22.508161Z"
        },
        "papermill": {
          "duration": 0.042369,
          "end_time": "2022-11-24T06:52:22.512112",
          "exception": false,
          "start_time": "2022-11-24T06:52:22.469743",
          "status": "completed"
        },
        "tags": [],
        "colab": {
          "base_uri": "https://localhost:8080/"
        },
        "id": "7dce55f8",
        "outputId": "71863800-133b-4569-f6a0-e14ffb6cb360"
      },
      "outputs": [
        {
          "output_type": "stream",
          "name": "stdout",
          "text": [
            "<class 'pandas.core.frame.DataFrame'>\n",
            "RangeIndex: 2434 entries, 0 to 2433\n",
            "Data columns (total 5 columns):\n",
            " #   Column            Non-Null Count  Dtype  \n",
            "---  ------            --------------  -----  \n",
            " 0   seq_id            2434 non-null   int64  \n",
            " 1   protein_sequence  25 non-null     object \n",
            " 2   pH                25 non-null     float64\n",
            " 3   data_source       0 non-null      float64\n",
            " 4   tm                25 non-null     float64\n",
            "dtypes: float64(3), int64(1), object(1)\n",
            "memory usage: 95.2+ KB\n"
          ]
        }
      ],
      "source": [
        "train_update.info()"
      ]
    },
    {
      "cell_type": "code",
      "execution_count": null,
      "id": "2ee87bcf",
      "metadata": {
        "execution": {
          "iopub.execute_input": "2022-11-24T06:52:22.540363Z",
          "iopub.status.busy": "2022-11-24T06:52:22.539102Z",
          "iopub.status.idle": "2022-11-24T06:52:22.554006Z",
          "shell.execute_reply": "2022-11-24T06:52:22.552806Z"
        },
        "papermill": {
          "duration": 0.031552,
          "end_time": "2022-11-24T06:52:22.556444",
          "exception": false,
          "start_time": "2022-11-24T06:52:22.524892",
          "status": "completed"
        },
        "tags": [],
        "id": "2ee87bcf"
      },
      "outputs": [],
      "source": [
        "train.head()"
      ]
    },
    {
      "cell_type": "code",
      "execution_count": null,
      "id": "b00bdb84",
      "metadata": {
        "execution": {
          "iopub.execute_input": "2022-11-24T06:52:22.583018Z",
          "iopub.status.busy": "2022-11-24T06:52:22.582615Z",
          "iopub.status.idle": "2022-11-24T06:52:22.600950Z",
          "shell.execute_reply": "2022-11-24T06:52:22.599630Z"
        },
        "papermill": {
          "duration": 0.035451,
          "end_time": "2022-11-24T06:52:22.604199",
          "exception": false,
          "start_time": "2022-11-24T06:52:22.568748",
          "status": "completed"
        },
        "tags": [],
        "id": "b00bdb84"
      },
      "outputs": [],
      "source": [
        "train.info()"
      ]
    },
    {
      "cell_type": "code",
      "execution_count": null,
      "id": "47cf5926",
      "metadata": {
        "execution": {
          "iopub.execute_input": "2022-11-24T06:52:22.630891Z",
          "iopub.status.busy": "2022-11-24T06:52:22.630282Z",
          "iopub.status.idle": "2022-11-24T06:52:22.656725Z",
          "shell.execute_reply": "2022-11-24T06:52:22.655571Z"
        },
        "papermill": {
          "duration": 0.042564,
          "end_time": "2022-11-24T06:52:22.659085",
          "exception": false,
          "start_time": "2022-11-24T06:52:22.616521",
          "status": "completed"
        },
        "tags": [],
        "id": "47cf5926"
      },
      "outputs": [],
      "source": [
        "train.describe()"
      ]
    },
    {
      "cell_type": "code",
      "execution_count": null,
      "id": "266d8687",
      "metadata": {
        "execution": {
          "iopub.execute_input": "2022-11-24T06:52:22.686186Z",
          "iopub.status.busy": "2022-11-24T06:52:22.685733Z",
          "iopub.status.idle": "2022-11-24T06:52:22.700821Z",
          "shell.execute_reply": "2022-11-24T06:52:22.699584Z"
        },
        "papermill": {
          "duration": 0.031314,
          "end_time": "2022-11-24T06:52:22.703035",
          "exception": false,
          "start_time": "2022-11-24T06:52:22.671721",
          "status": "completed"
        },
        "tags": [],
        "id": "266d8687"
      },
      "outputs": [],
      "source": [
        "train.corr()"
      ]
    },
    {
      "cell_type": "code",
      "execution_count": 67,
      "id": "5b1143af",
      "metadata": {
        "execution": {
          "iopub.execute_input": "2022-11-24T06:52:22.730845Z",
          "iopub.status.busy": "2022-11-24T06:52:22.729919Z",
          "iopub.status.idle": "2022-11-24T06:52:22.737405Z",
          "shell.execute_reply": "2022-11-24T06:52:22.736291Z"
        },
        "papermill": {
          "duration": 0.023685,
          "end_time": "2022-11-24T06:52:22.739597",
          "exception": false,
          "start_time": "2022-11-24T06:52:22.715912",
          "status": "completed"
        },
        "tags": [],
        "colab": {
          "base_uri": "https://localhost:8080/"
        },
        "id": "5b1143af",
        "outputId": "200dd0c3-5444-49f4-c65e-f7d0a090e427"
      },
      "outputs": [
        {
          "output_type": "execute_result",
          "data": {
            "text/plain": [
              "Index(['seq_id', 'protein_sequence', 'pH', 'data_source', 'tm'], dtype='object')"
            ]
          },
          "metadata": {},
          "execution_count": 67
        }
      ],
      "source": [
        "train.columns"
      ]
    },
    {
      "cell_type": "code",
      "execution_count": 116,
      "id": "2cc3f6d4",
      "metadata": {
        "execution": {
          "iopub.execute_input": "2022-11-24T06:52:22.802552Z",
          "iopub.status.busy": "2022-11-24T06:52:22.802140Z",
          "iopub.status.idle": "2022-11-24T06:52:22.820253Z",
          "shell.execute_reply": "2022-11-24T06:52:22.819049Z"
        },
        "papermill": {
          "duration": 0.034738,
          "end_time": "2022-11-24T06:52:22.822604",
          "exception": false,
          "start_time": "2022-11-24T06:52:22.787866",
          "status": "completed"
        },
        "tags": [],
        "colab": {
          "base_uri": "https://localhost:8080/",
          "height": 423
        },
        "id": "2cc3f6d4",
        "outputId": "0e2cb823-ecbd-4c69-859b-0506add0253d"
      },
      "outputs": [
        {
          "output_type": "execute_result",
          "data": {
            "text/plain": [
              "       seq_id                                   protein_sequence   pH    tm\n",
              "0           0  AAAAKAAALALLGEAPEVVDIWLPAGWRQPFRVFRLERKGDGVLVG...  7.0  75.7\n",
              "1           1  AAADGEPLHNEEERAGAGQVGRSLPQESEEQRTGSRPRRRRDLGSR...  7.0  50.5\n",
              "2           2  AAAFSTPRATSYRILSSAGSGSTRADAPQVRRLHTTRDLLAKDYYA...  7.0  40.5\n",
              "3           3  AAASGLRTAIPAQPLRHLLQPAPRPCLRPFGLLSVRAGSARRSGLL...  7.0  47.2\n",
              "4           4  AAATKSGPRRQSQGASVRTFTPFYFLVEPVDTLSVRGSSVILNCSA...  7.0  49.5\n",
              "...       ...                                                ...  ...   ...\n",
              "31385   31385  YYMYSGGGSALAAGGGGAGRKGDWNDIDSIKKKDLHHSRGDEKAQG...  7.0  51.8\n",
              "31386   31386  YYNDQHRLSSYSVETAMFLSWERAIVKPGAMFKKAVIGFNCNVDLI...  7.0  37.2\n",
              "31387   31387  YYQRTLGAELLYKISFGEMPKSAQDSAENCPSGMQFPDTAIAHANV...  7.0  64.6\n",
              "31388   31388  YYSFSDNITTVFLSRQAIDDDHSLSLGTISDVVESENGVVAADDAR...  7.0  50.7\n",
              "31389   31389  YYVPDEYWQSLEVAHKLTFGYGYLTWEWVQGIRSYVYPLLIAGLYK...  7.0  37.6\n",
              "\n",
              "[31390 rows x 4 columns]"
            ],
            "text/html": [
              "\n",
              "  <div id=\"df-6f4e71dc-0151-459e-8615-cf25289593fa\">\n",
              "    <div class=\"colab-df-container\">\n",
              "      <div>\n",
              "<style scoped>\n",
              "    .dataframe tbody tr th:only-of-type {\n",
              "        vertical-align: middle;\n",
              "    }\n",
              "\n",
              "    .dataframe tbody tr th {\n",
              "        vertical-align: top;\n",
              "    }\n",
              "\n",
              "    .dataframe thead th {\n",
              "        text-align: right;\n",
              "    }\n",
              "</style>\n",
              "<table border=\"1\" class=\"dataframe\">\n",
              "  <thead>\n",
              "    <tr style=\"text-align: right;\">\n",
              "      <th></th>\n",
              "      <th>seq_id</th>\n",
              "      <th>protein_sequence</th>\n",
              "      <th>pH</th>\n",
              "      <th>tm</th>\n",
              "    </tr>\n",
              "  </thead>\n",
              "  <tbody>\n",
              "    <tr>\n",
              "      <th>0</th>\n",
              "      <td>0</td>\n",
              "      <td>AAAAKAAALALLGEAPEVVDIWLPAGWRQPFRVFRLERKGDGVLVG...</td>\n",
              "      <td>7.0</td>\n",
              "      <td>75.7</td>\n",
              "    </tr>\n",
              "    <tr>\n",
              "      <th>1</th>\n",
              "      <td>1</td>\n",
              "      <td>AAADGEPLHNEEERAGAGQVGRSLPQESEEQRTGSRPRRRRDLGSR...</td>\n",
              "      <td>7.0</td>\n",
              "      <td>50.5</td>\n",
              "    </tr>\n",
              "    <tr>\n",
              "      <th>2</th>\n",
              "      <td>2</td>\n",
              "      <td>AAAFSTPRATSYRILSSAGSGSTRADAPQVRRLHTTRDLLAKDYYA...</td>\n",
              "      <td>7.0</td>\n",
              "      <td>40.5</td>\n",
              "    </tr>\n",
              "    <tr>\n",
              "      <th>3</th>\n",
              "      <td>3</td>\n",
              "      <td>AAASGLRTAIPAQPLRHLLQPAPRPCLRPFGLLSVRAGSARRSGLL...</td>\n",
              "      <td>7.0</td>\n",
              "      <td>47.2</td>\n",
              "    </tr>\n",
              "    <tr>\n",
              "      <th>4</th>\n",
              "      <td>4</td>\n",
              "      <td>AAATKSGPRRQSQGASVRTFTPFYFLVEPVDTLSVRGSSVILNCSA...</td>\n",
              "      <td>7.0</td>\n",
              "      <td>49.5</td>\n",
              "    </tr>\n",
              "    <tr>\n",
              "      <th>...</th>\n",
              "      <td>...</td>\n",
              "      <td>...</td>\n",
              "      <td>...</td>\n",
              "      <td>...</td>\n",
              "    </tr>\n",
              "    <tr>\n",
              "      <th>31385</th>\n",
              "      <td>31385</td>\n",
              "      <td>YYMYSGGGSALAAGGGGAGRKGDWNDIDSIKKKDLHHSRGDEKAQG...</td>\n",
              "      <td>7.0</td>\n",
              "      <td>51.8</td>\n",
              "    </tr>\n",
              "    <tr>\n",
              "      <th>31386</th>\n",
              "      <td>31386</td>\n",
              "      <td>YYNDQHRLSSYSVETAMFLSWERAIVKPGAMFKKAVIGFNCNVDLI...</td>\n",
              "      <td>7.0</td>\n",
              "      <td>37.2</td>\n",
              "    </tr>\n",
              "    <tr>\n",
              "      <th>31387</th>\n",
              "      <td>31387</td>\n",
              "      <td>YYQRTLGAELLYKISFGEMPKSAQDSAENCPSGMQFPDTAIAHANV...</td>\n",
              "      <td>7.0</td>\n",
              "      <td>64.6</td>\n",
              "    </tr>\n",
              "    <tr>\n",
              "      <th>31388</th>\n",
              "      <td>31388</td>\n",
              "      <td>YYSFSDNITTVFLSRQAIDDDHSLSLGTISDVVESENGVVAADDAR...</td>\n",
              "      <td>7.0</td>\n",
              "      <td>50.7</td>\n",
              "    </tr>\n",
              "    <tr>\n",
              "      <th>31389</th>\n",
              "      <td>31389</td>\n",
              "      <td>YYVPDEYWQSLEVAHKLTFGYGYLTWEWVQGIRSYVYPLLIAGLYK...</td>\n",
              "      <td>7.0</td>\n",
              "      <td>37.6</td>\n",
              "    </tr>\n",
              "  </tbody>\n",
              "</table>\n",
              "<p>31390 rows × 4 columns</p>\n",
              "</div>\n",
              "      <button class=\"colab-df-convert\" onclick=\"convertToInteractive('df-6f4e71dc-0151-459e-8615-cf25289593fa')\"\n",
              "              title=\"Convert this dataframe to an interactive table.\"\n",
              "              style=\"display:none;\">\n",
              "        \n",
              "  <svg xmlns=\"http://www.w3.org/2000/svg\" height=\"24px\"viewBox=\"0 0 24 24\"\n",
              "       width=\"24px\">\n",
              "    <path d=\"M0 0h24v24H0V0z\" fill=\"none\"/>\n",
              "    <path d=\"M18.56 5.44l.94 2.06.94-2.06 2.06-.94-2.06-.94-.94-2.06-.94 2.06-2.06.94zm-11 1L8.5 8.5l.94-2.06 2.06-.94-2.06-.94L8.5 2.5l-.94 2.06-2.06.94zm10 10l.94 2.06.94-2.06 2.06-.94-2.06-.94-.94-2.06-.94 2.06-2.06.94z\"/><path d=\"M17.41 7.96l-1.37-1.37c-.4-.4-.92-.59-1.43-.59-.52 0-1.04.2-1.43.59L10.3 9.45l-7.72 7.72c-.78.78-.78 2.05 0 2.83L4 21.41c.39.39.9.59 1.41.59.51 0 1.02-.2 1.41-.59l7.78-7.78 2.81-2.81c.8-.78.8-2.07 0-2.86zM5.41 20L4 18.59l7.72-7.72 1.47 1.35L5.41 20z\"/>\n",
              "  </svg>\n",
              "      </button>\n",
              "      \n",
              "  <style>\n",
              "    .colab-df-container {\n",
              "      display:flex;\n",
              "      flex-wrap:wrap;\n",
              "      gap: 12px;\n",
              "    }\n",
              "\n",
              "    .colab-df-convert {\n",
              "      background-color: #E8F0FE;\n",
              "      border: none;\n",
              "      border-radius: 50%;\n",
              "      cursor: pointer;\n",
              "      display: none;\n",
              "      fill: #1967D2;\n",
              "      height: 32px;\n",
              "      padding: 0 0 0 0;\n",
              "      width: 32px;\n",
              "    }\n",
              "\n",
              "    .colab-df-convert:hover {\n",
              "      background-color: #E2EBFA;\n",
              "      box-shadow: 0px 1px 2px rgba(60, 64, 67, 0.3), 0px 1px 3px 1px rgba(60, 64, 67, 0.15);\n",
              "      fill: #174EA6;\n",
              "    }\n",
              "\n",
              "    [theme=dark] .colab-df-convert {\n",
              "      background-color: #3B4455;\n",
              "      fill: #D2E3FC;\n",
              "    }\n",
              "\n",
              "    [theme=dark] .colab-df-convert:hover {\n",
              "      background-color: #434B5C;\n",
              "      box-shadow: 0px 1px 3px 1px rgba(0, 0, 0, 0.15);\n",
              "      filter: drop-shadow(0px 1px 2px rgba(0, 0, 0, 0.3));\n",
              "      fill: #FFFFFF;\n",
              "    }\n",
              "  </style>\n",
              "\n",
              "      <script>\n",
              "        const buttonEl =\n",
              "          document.querySelector('#df-6f4e71dc-0151-459e-8615-cf25289593fa button.colab-df-convert');\n",
              "        buttonEl.style.display =\n",
              "          google.colab.kernel.accessAllowed ? 'block' : 'none';\n",
              "\n",
              "        async function convertToInteractive(key) {\n",
              "          const element = document.querySelector('#df-6f4e71dc-0151-459e-8615-cf25289593fa');\n",
              "          const dataTable =\n",
              "            await google.colab.kernel.invokeFunction('convertToInteractive',\n",
              "                                                     [key], {});\n",
              "          if (!dataTable) return;\n",
              "\n",
              "          const docLinkHtml = 'Like what you see? Visit the ' +\n",
              "            '<a target=\"_blank\" href=https://colab.research.google.com/notebooks/data_table.ipynb>data table notebook</a>'\n",
              "            + ' to learn more about interactive tables.';\n",
              "          element.innerHTML = '';\n",
              "          dataTable['output_type'] = 'display_data';\n",
              "          await google.colab.output.renderOutput(dataTable, element);\n",
              "          const docLink = document.createElement('div');\n",
              "          docLink.innerHTML = docLinkHtml;\n",
              "          element.appendChild(docLink);\n",
              "        }\n",
              "      </script>\n",
              "    </div>\n",
              "  </div>\n",
              "  "
            ]
          },
          "metadata": {},
          "execution_count": 116
        }
      ],
      "source": [
        "train.drop(['data_source'],axis=1,inplace=True)\n",
        "train"
      ]
    },
    {
      "cell_type": "code",
      "execution_count": 117,
      "id": "8a4898a3",
      "metadata": {
        "execution": {
          "iopub.execute_input": "2022-11-24T06:52:22.851662Z",
          "iopub.status.busy": "2022-11-24T06:52:22.850692Z",
          "iopub.status.idle": "2022-11-24T06:52:22.864230Z",
          "shell.execute_reply": "2022-11-24T06:52:22.863168Z"
        },
        "papermill": {
          "duration": 0.030713,
          "end_time": "2022-11-24T06:52:22.866672",
          "exception": false,
          "start_time": "2022-11-24T06:52:22.835959",
          "status": "completed"
        },
        "tags": [],
        "colab": {
          "base_uri": "https://localhost:8080/"
        },
        "id": "8a4898a3",
        "outputId": "9af8bd2e-b262-4f80-da39-cee10e7cbd7c"
      },
      "outputs": [
        {
          "output_type": "execute_result",
          "data": {
            "text/plain": [
              "seq_id                0\n",
              "protein_sequence      0\n",
              "pH                  286\n",
              "tm                    0\n",
              "dtype: int64"
            ]
          },
          "metadata": {},
          "execution_count": 117
        }
      ],
      "source": [
        "train.isnull().sum()"
      ]
    },
    {
      "cell_type": "code",
      "execution_count": 118,
      "id": "96586051",
      "metadata": {
        "execution": {
          "iopub.execute_input": "2022-11-24T06:52:22.895335Z",
          "iopub.status.busy": "2022-11-24T06:52:22.894910Z",
          "iopub.status.idle": "2022-11-24T06:52:22.901158Z",
          "shell.execute_reply": "2022-11-24T06:52:22.900344Z"
        },
        "papermill": {
          "duration": 0.023151,
          "end_time": "2022-11-24T06:52:22.903309",
          "exception": false,
          "start_time": "2022-11-24T06:52:22.880158",
          "status": "completed"
        },
        "tags": [],
        "id": "96586051"
      },
      "outputs": [],
      "source": [
        "train['pH'] = train['pH'].fillna(train['pH'].mean())"
      ]
    },
    {
      "cell_type": "code",
      "execution_count": 119,
      "id": "1a461f96",
      "metadata": {
        "execution": {
          "iopub.execute_input": "2022-11-24T06:52:22.932139Z",
          "iopub.status.busy": "2022-11-24T06:52:22.931659Z",
          "iopub.status.idle": "2022-11-24T06:52:23.265960Z",
          "shell.execute_reply": "2022-11-24T06:52:23.264764Z"
        },
        "papermill": {
          "duration": 0.351792,
          "end_time": "2022-11-24T06:52:23.268725",
          "exception": false,
          "start_time": "2022-11-24T06:52:22.916933",
          "status": "completed"
        },
        "tags": [],
        "colab": {
          "base_uri": "https://localhost:8080/",
          "height": 299
        },
        "id": "1a461f96",
        "outputId": "ba8dd0e4-975f-404c-9105-e0b47f13e951"
      },
      "outputs": [
        {
          "output_type": "execute_result",
          "data": {
            "text/plain": [
              "Text(0.5, 1.0, 'Heatmap for correlation between columns of training data')"
            ]
          },
          "metadata": {},
          "execution_count": 119
        },
        {
          "output_type": "display_data",
          "data": {
            "text/plain": [
              "<Figure size 432x288 with 2 Axes>"
            ],
            "image/png": "[encoded data removed]"
          },
          "metadata": {
            "needs_background": "light"
          }
        }
      ],
      "source": [
        "sns.heatmap(train.corr(),linewidths=1,cmap=plt.cm.Reds, annot=True);\n",
        "\n",
        "plt.title('Heatmap for correlation between columns of training data')"
      ]
    },
    {
      "cell_type": "code",
      "execution_count": 82,
      "id": "7f8bf9b1",
      "metadata": {
        "execution": {
          "iopub.execute_input": "2022-11-24T06:52:23.370311Z",
          "iopub.status.busy": "2022-11-24T06:52:23.369612Z",
          "iopub.status.idle": "2022-11-24T06:52:31.470264Z",
          "shell.execute_reply": "2022-11-24T06:52:31.468950Z"
        },
        "papermill": {
          "duration": 8.118732,
          "end_time": "2022-11-24T06:52:31.473498",
          "exception": false,
          "start_time": "2022-11-24T06:52:23.354766",
          "status": "completed"
        },
        "tags": [],
        "id": "7f8bf9b1"
      },
      "outputs": [],
      "source": [
        "import re  \n",
        "search =\"A\"\n",
        "search_amino=['A', 'C', 'D', 'E', 'F', 'G', 'H', 'I', 'K', 'L', 'M', 'N', 'P', 'Q', 'R', 'S', 'T', 'V', 'W', 'Y']\n",
        "for amino_acid in search_amino:\n",
        "     train[amino_acid]=train['protein_sequence'].str.count(amino_acid,re.I)"
      ]
    },
    {
      "cell_type": "code",
      "execution_count": null,
      "id": "17466a65",
      "metadata": {
        "execution": {
          "iopub.execute_input": "2022-11-24T06:52:31.503812Z",
          "iopub.status.busy": "2022-11-24T06:52:31.502807Z",
          "iopub.status.idle": "2022-11-24T06:52:31.547020Z",
          "shell.execute_reply": "2022-11-24T06:52:31.545778Z"
        },
        "papermill": {
          "duration": 0.06173,
          "end_time": "2022-11-24T06:52:31.549472",
          "exception": false,
          "start_time": "2022-11-24T06:52:31.487742",
          "status": "completed"
        },
        "tags": [],
        "id": "17466a65"
      },
      "outputs": [],
      "source": [
        "train.drop(['protein_sequence'],axis=1,inplace=True)\n",
        "train"
      ]
    },
    {
      "cell_type": "code",
      "execution_count": 84,
      "id": "044e43bc",
      "metadata": {
        "execution": {
          "iopub.execute_input": "2022-11-24T06:52:31.579495Z",
          "iopub.status.busy": "2022-11-24T06:52:31.579104Z",
          "iopub.status.idle": "2022-11-24T06:52:31.917703Z",
          "shell.execute_reply": "2022-11-24T06:52:31.916457Z"
        },
        "papermill": {
          "duration": 0.356887,
          "end_time": "2022-11-24T06:52:31.920537",
          "exception": false,
          "start_time": "2022-11-24T06:52:31.563650",
          "status": "completed"
        },
        "tags": [],
        "id": "044e43bc"
      },
      "outputs": [],
      "source": [
        "from sklearn.impute import SimpleImputer\n",
        "my_imputer = SimpleImputer()\n",
        "data_with_imputed_values = my_imputer.fit_transform(train)"
      ]
    },
    {
      "cell_type": "code",
      "execution_count": null,
      "id": "b4ab0787",
      "metadata": {
        "execution": {
          "iopub.execute_input": "2022-11-24T06:52:31.979729Z",
          "iopub.status.busy": "2022-11-24T06:52:31.978648Z",
          "iopub.status.idle": "2022-11-24T06:52:31.997801Z",
          "shell.execute_reply": "2022-11-24T06:52:31.996570Z"
        },
        "papermill": {
          "duration": 0.037154,
          "end_time": "2022-11-24T06:52:32.000315",
          "exception": false,
          "start_time": "2022-11-24T06:52:31.963161",
          "status": "completed"
        },
        "tags": [],
        "id": "b4ab0787"
      },
      "outputs": [],
      "source": [
        "test.describe()"
      ]
    },
    {
      "cell_type": "code",
      "execution_count": 85,
      "id": "5c3cb3f1",
      "metadata": {
        "execution": {
          "iopub.execute_input": "2022-11-24T06:52:32.032237Z",
          "iopub.status.busy": "2022-11-24T06:52:32.031468Z",
          "iopub.status.idle": "2022-11-24T06:52:32.339553Z",
          "shell.execute_reply": "2022-11-24T06:52:32.338359Z"
        },
        "papermill": {
          "duration": 0.326916,
          "end_time": "2022-11-24T06:52:32.342314",
          "exception": false,
          "start_time": "2022-11-24T06:52:32.015398",
          "status": "completed"
        },
        "tags": [],
        "id": "5c3cb3f1"
      },
      "outputs": [],
      "source": [
        "search_amino=['A', 'C', 'D', 'E', 'F', 'G', 'H', 'I', 'K', 'L', 'M', 'N', 'P', 'Q', 'R', 'S', 'T', 'V', 'W', 'Y']\n",
        "for amino in search_amino:\n",
        "    test[amino]=test['protein_sequence'].str.count(amino,re.I)"
      ]
    },
    {
      "cell_type": "code",
      "execution_count": 86,
      "id": "79887d47",
      "metadata": {
        "execution": {
          "iopub.execute_input": "2022-11-24T06:52:32.373211Z",
          "iopub.status.busy": "2022-11-24T06:52:32.372410Z",
          "iopub.status.idle": "2022-11-24T06:52:32.392672Z",
          "shell.execute_reply": "2022-11-24T06:52:32.391354Z"
        },
        "papermill": {
          "duration": 0.038403,
          "end_time": "2022-11-24T06:52:32.395023",
          "exception": false,
          "start_time": "2022-11-24T06:52:32.356620",
          "status": "completed"
        },
        "tags": [],
        "colab": {
          "base_uri": "https://localhost:8080/",
          "height": 235
        },
        "id": "79887d47",
        "outputId": "1eb2d71b-008e-4d76-d0d8-889bfe6d74ff"
      },
      "outputs": [
        {
          "output_type": "execute_result",
          "data": {
            "text/plain": [
              "   seq_id  pH   A  C   D  E   F   G  H  I  ...  M   N   P   Q  R   S  T   V  \\\n",
              "0   31390   8  22  4  15  8  10  19  0  6  ...  0  19  17  13  3  18  8  13   \n",
              "1   31391   8  22  4  15  7  10  19  0  6  ...  0  19  17  13  3  18  8  13   \n",
              "2   31392   8  22  4  15  7  10  19  0  6  ...  0  19  17  13  3  18  8  13   \n",
              "3   31393   8  22  5  15  7  10  19  0  6  ...  0  19  17  13  3  18  8  13   \n",
              "4   31394   8  22  4  15  7  11  19  0  6  ...  0  19  17  13  3  18  8  13   \n",
              "\n",
              "   W  Y  \n",
              "0  6  6  \n",
              "1  6  6  \n",
              "2  6  6  \n",
              "3  6  6  \n",
              "4  6  6  \n",
              "\n",
              "[5 rows x 22 columns]"
            ],
            "text/html": [
              "\n",
              "  <div id=\"df-a485589c-b469-477e-af22-e32156c9e749\">\n",
              "    <div class=\"colab-df-container\">\n",
              "      <div>\n",
              "<style scoped>\n",
              "    .dataframe tbody tr th:only-of-type {\n",
              "        vertical-align: middle;\n",
              "    }\n",
              "\n",
              "    .dataframe tbody tr th {\n",
              "        vertical-align: top;\n",
              "    }\n",
              "\n",
              "    .dataframe thead th {\n",
              "        text-align: right;\n",
              "    }\n",
              "</style>\n",
              "<table border=\"1\" class=\"dataframe\">\n",
              "  <thead>\n",
              "    <tr style=\"text-align: right;\">\n",
              "      <th></th>\n",
              "      <th>seq_id</th>\n",
              "      <th>pH</th>\n",
              "      <th>A</th>\n",
              "      <th>C</th>\n",
              "      <th>D</th>\n",
              "      <th>E</th>\n",
              "      <th>F</th>\n",
              "      <th>G</th>\n",
              "      <th>H</th>\n",
              "      <th>I</th>\n",
              "      <th>...</th>\n",
              "      <th>M</th>\n",
              "      <th>N</th>\n",
              "      <th>P</th>\n",
              "      <th>Q</th>\n",
              "      <th>R</th>\n",
              "      <th>S</th>\n",
              "      <th>T</th>\n",
              "      <th>V</th>\n",
              "      <th>W</th>\n",
              "      <th>Y</th>\n",
              "    </tr>\n",
              "  </thead>\n",
              "  <tbody>\n",
              "    <tr>\n",
              "      <th>0</th>\n",
              "      <td>31390</td>\n",
              "      <td>8</td>\n",
              "      <td>22</td>\n",
              "      <td>4</td>\n",
              "      <td>15</td>\n",
              "      <td>8</td>\n",
              "      <td>10</td>\n",
              "      <td>19</td>\n",
              "      <td>0</td>\n",
              "      <td>6</td>\n",
              "      <td>...</td>\n",
              "      <td>0</td>\n",
              "      <td>19</td>\n",
              "      <td>17</td>\n",
              "      <td>13</td>\n",
              "      <td>3</td>\n",
              "      <td>18</td>\n",
              "      <td>8</td>\n",
              "      <td>13</td>\n",
              "      <td>6</td>\n",
              "      <td>6</td>\n",
              "    </tr>\n",
              "    <tr>\n",
              "      <th>1</th>\n",
              "      <td>31391</td>\n",
              "      <td>8</td>\n",
              "      <td>22</td>\n",
              "      <td>4</td>\n",
              "      <td>15</td>\n",
              "      <td>7</td>\n",
              "      <td>10</td>\n",
              "      <td>19</td>\n",
              "      <td>0</td>\n",
              "      <td>6</td>\n",
              "      <td>...</td>\n",
              "      <td>0</td>\n",
              "      <td>19</td>\n",
              "      <td>17</td>\n",
              "      <td>13</td>\n",
              "      <td>3</td>\n",
              "      <td>18</td>\n",
              "      <td>8</td>\n",
              "      <td>13</td>\n",
              "      <td>6</td>\n",
              "      <td>6</td>\n",
              "    </tr>\n",
              "    <tr>\n",
              "      <th>2</th>\n",
              "      <td>31392</td>\n",
              "      <td>8</td>\n",
              "      <td>22</td>\n",
              "      <td>4</td>\n",
              "      <td>15</td>\n",
              "      <td>7</td>\n",
              "      <td>10</td>\n",
              "      <td>19</td>\n",
              "      <td>0</td>\n",
              "      <td>6</td>\n",
              "      <td>...</td>\n",
              "      <td>0</td>\n",
              "      <td>19</td>\n",
              "      <td>17</td>\n",
              "      <td>13</td>\n",
              "      <td>3</td>\n",
              "      <td>18</td>\n",
              "      <td>8</td>\n",
              "      <td>13</td>\n",
              "      <td>6</td>\n",
              "      <td>6</td>\n",
              "    </tr>\n",
              "    <tr>\n",
              "      <th>3</th>\n",
              "      <td>31393</td>\n",
              "      <td>8</td>\n",
              "      <td>22</td>\n",
              "      <td>5</td>\n",
              "      <td>15</td>\n",
              "      <td>7</td>\n",
              "      <td>10</td>\n",
              "      <td>19</td>\n",
              "      <td>0</td>\n",
              "      <td>6</td>\n",
              "      <td>...</td>\n",
              "      <td>0</td>\n",
              "      <td>19</td>\n",
              "      <td>17</td>\n",
              "      <td>13</td>\n",
              "      <td>3</td>\n",
              "      <td>18</td>\n",
              "      <td>8</td>\n",
              "      <td>13</td>\n",
              "      <td>6</td>\n",
              "      <td>6</td>\n",
              "    </tr>\n",
              "    <tr>\n",
              "      <th>4</th>\n",
              "      <td>31394</td>\n",
              "      <td>8</td>\n",
              "      <td>22</td>\n",
              "      <td>4</td>\n",
              "      <td>15</td>\n",
              "      <td>7</td>\n",
              "      <td>11</td>\n",
              "      <td>19</td>\n",
              "      <td>0</td>\n",
              "      <td>6</td>\n",
              "      <td>...</td>\n",
              "      <td>0</td>\n",
              "      <td>19</td>\n",
              "      <td>17</td>\n",
              "      <td>13</td>\n",
              "      <td>3</td>\n",
              "      <td>18</td>\n",
              "      <td>8</td>\n",
              "      <td>13</td>\n",
              "      <td>6</td>\n",
              "      <td>6</td>\n",
              "    </tr>\n",
              "  </tbody>\n",
              "</table>\n",
              "<p>5 rows × 22 columns</p>\n",
              "</div>\n",
              "      <button class=\"colab-df-convert\" onclick=\"convertToInteractive('df-a485589c-b469-477e-af22-e32156c9e749')\"\n",
              "              title=\"Convert this dataframe to an interactive table.\"\n",
              "              style=\"display:none;\">\n",
              "        \n",
              "  <svg xmlns=\"http://www.w3.org/2000/svg\" height=\"24px\"viewBox=\"0 0 24 24\"\n",
              "       width=\"24px\">\n",
              "    <path d=\"M0 0h24v24H0V0z\" fill=\"none\"/>\n",
              "    <path d=\"M18.56 5.44l.94 2.06.94-2.06 2.06-.94-2.06-.94-.94-2.06-.94 2.06-2.06.94zm-11 1L8.5 8.5l.94-2.06 2.06-.94-2.06-.94L8.5 2.5l-.94 2.06-2.06.94zm10 10l.94 2.06.94-2.06 2.06-.94-2.06-.94-.94-2.06-.94 2.06-2.06.94z\"/><path d=\"M17.41 7.96l-1.37-1.37c-.4-.4-.92-.59-1.43-.59-.52 0-1.04.2-1.43.59L10.3 9.45l-7.72 7.72c-.78.78-.78 2.05 0 2.83L4 21.41c.39.39.9.59 1.41.59.51 0 1.02-.2 1.41-.59l7.78-7.78 2.81-2.81c.8-.78.8-2.07 0-2.86zM5.41 20L4 18.59l7.72-7.72 1.47 1.35L5.41 20z\"/>\n",
              "  </svg>\n",
              "      </button>\n",
              "      \n",
              "  <style>\n",
              "    .colab-df-container {\n",
              "      display:flex;\n",
              "      flex-wrap:wrap;\n",
              "      gap: 12px;\n",
              "    }\n",
              "\n",
              "    .colab-df-convert {\n",
              "      background-color: #E8F0FE;\n",
              "      border: none;\n",
              "      border-radius: 50%;\n",
              "      cursor: pointer;\n",
              "      display: none;\n",
              "      fill: #1967D2;\n",
              "      height: 32px;\n",
              "      padding: 0 0 0 0;\n",
              "      width: 32px;\n",
              "    }\n",
              "\n",
              "    .colab-df-convert:hover {\n",
              "      background-color: #E2EBFA;\n",
              "      box-shadow: 0px 1px 2px rgba(60, 64, 67, 0.3), 0px 1px 3px 1px rgba(60, 64, 67, 0.15);\n",
              "      fill: #174EA6;\n",
              "    }\n",
              "\n",
              "    [theme=dark] .colab-df-convert {\n",
              "      background-color: #3B4455;\n",
              "      fill: #D2E3FC;\n",
              "    }\n",
              "\n",
              "    [theme=dark] .colab-df-convert:hover {\n",
              "      background-color: #434B5C;\n",
              "      box-shadow: 0px 1px 3px 1px rgba(0, 0, 0, 0.15);\n",
              "      filter: drop-shadow(0px 1px 2px rgba(0, 0, 0, 0.3));\n",
              "      fill: #FFFFFF;\n",
              "    }\n",
              "  </style>\n",
              "\n",
              "      <script>\n",
              "        const buttonEl =\n",
              "          document.querySelector('#df-a485589c-b469-477e-af22-e32156c9e749 button.colab-df-convert');\n",
              "        buttonEl.style.display =\n",
              "          google.colab.kernel.accessAllowed ? 'block' : 'none';\n",
              "\n",
              "        async function convertToInteractive(key) {\n",
              "          const element = document.querySelector('#df-a485589c-b469-477e-af22-e32156c9e749');\n",
              "          const dataTable =\n",
              "            await google.colab.kernel.invokeFunction('convertToInteractive',\n",
              "                                                     [key], {});\n",
              "          if (!dataTable) return;\n",
              "\n",
              "          const docLinkHtml = 'Like what you see? Visit the ' +\n",
              "            '<a target=\"_blank\" href=https://colab.research.google.com/notebooks/data_table.ipynb>data table notebook</a>'\n",
              "            + ' to learn more about interactive tables.';\n",
              "          element.innerHTML = '';\n",
              "          dataTable['output_type'] = 'display_data';\n",
              "          await google.colab.output.renderOutput(dataTable, element);\n",
              "          const docLink = document.createElement('div');\n",
              "          docLink.innerHTML = docLinkHtml;\n",
              "          element.appendChild(docLink);\n",
              "        }\n",
              "      </script>\n",
              "    </div>\n",
              "  </div>\n",
              "  "
            ]
          },
          "metadata": {},
          "execution_count": 86
        }
      ],
      "source": [
        "test.drop(['data_source','protein_sequence'],axis=1,inplace=True)\n",
        "test.head()"
      ]
    },
    {
      "cell_type": "code",
      "execution_count": 87,
      "id": "d401337a",
      "metadata": {
        "execution": {
          "iopub.execute_input": "2022-11-24T06:52:32.464845Z",
          "iopub.status.busy": "2022-11-24T06:52:32.463846Z",
          "iopub.status.idle": "2022-11-24T06:52:33.487929Z",
          "shell.execute_reply": "2022-11-24T06:52:33.486657Z"
        },
        "papermill": {
          "duration": 1.042581,
          "end_time": "2022-11-24T06:52:33.490517",
          "exception": false,
          "start_time": "2022-11-24T06:52:32.447936",
          "status": "completed"
        },
        "tags": [],
        "colab": {
          "base_uri": "https://localhost:8080/",
          "height": 458
        },
        "id": "d401337a",
        "outputId": "dbaca864-1fd3-47ea-9a75-e2bc67fcfbcc"
      },
      "outputs": [
        {
          "output_type": "execute_result",
          "data": {
            "text/plain": [
              "<seaborn.axisgrid.JointGrid at 0x7fc9f1e44ac0>"
            ]
          },
          "metadata": {},
          "execution_count": 87
        },
        {
          "output_type": "display_data",
          "data": {
            "text/plain": [
              "<Figure size 432x432 with 3 Axes>"
            ],
            "image/png": "[encoded data removed]"
          },
          "metadata": {
            "needs_background": "light"
          }
        }
      ],
      "source": [
        "\n",
        "sns.jointplot(data=train, x=\"pH\", y=\"tm\")"
      ]
    },
    {
      "cell_type": "code",
      "execution_count": 88,
      "id": "fa88bcb9",
      "metadata": {
        "execution": {
          "iopub.execute_input": "2022-11-24T06:52:33.522924Z",
          "iopub.status.busy": "2022-11-24T06:52:33.522493Z",
          "iopub.status.idle": "2022-11-24T06:52:33.532474Z",
          "shell.execute_reply": "2022-11-24T06:52:33.531686Z"
        },
        "papermill": {
          "duration": 0.02849,
          "end_time": "2022-11-24T06:52:33.534362",
          "exception": false,
          "start_time": "2022-11-24T06:52:33.505872",
          "status": "completed"
        },
        "tags": [],
        "colab": {
          "base_uri": "https://localhost:8080/"
        },
        "id": "fa88bcb9",
        "outputId": "56e5e466-cf6b-4c4e-a7b5-895dbd5816a4"
      },
      "outputs": [
        {
          "output_type": "execute_result",
          "data": {
            "text/plain": [
              "7.00     26748\n",
              "7.50       576\n",
              "8.00       502\n",
              "3.00       288\n",
              "2.70       274\n",
              "         ...  \n",
              "3.14         1\n",
              "2.53         1\n",
              "2.81         1\n",
              "39.00        1\n",
              "10.30        1\n",
              "Name: pH, Length: 115, dtype: int64"
            ]
          },
          "metadata": {},
          "execution_count": 88
        }
      ],
      "source": [
        "train['pH'].value_counts()"
      ]
    },
    {
      "cell_type": "code",
      "execution_count": 89,
      "id": "e341a490",
      "metadata": {
        "execution": {
          "iopub.execute_input": "2022-11-24T06:52:33.566944Z",
          "iopub.status.busy": "2022-11-24T06:52:33.566062Z",
          "iopub.status.idle": "2022-11-24T06:52:33.576110Z",
          "shell.execute_reply": "2022-11-24T06:52:33.575030Z"
        },
        "papermill": {
          "duration": 0.02879,
          "end_time": "2022-11-24T06:52:33.578386",
          "exception": false,
          "start_time": "2022-11-24T06:52:33.549596",
          "status": "completed"
        },
        "tags": [],
        "colab": {
          "base_uri": "https://localhost:8080/"
        },
        "id": "e341a490",
        "outputId": "2efa3a87-727b-4dd5-b94d-170c8983d756"
      },
      "outputs": [
        {
          "output_type": "execute_result",
          "data": {
            "text/plain": [
              "25.0     1472\n",
              "20.0      561\n",
              "50.0      200\n",
              "45.0      178\n",
              "49.7      176\n",
              "         ... \n",
              "98.1        1\n",
              "97.6        1\n",
              "92.7        1\n",
              "1.2         1\n",
              "103.0       1\n",
              "Name: tm, Length: 770, dtype: int64"
            ]
          },
          "metadata": {},
          "execution_count": 89
        }
      ],
      "source": [
        "train['tm'].value_counts()"
      ]
    },
    {
      "cell_type": "code",
      "execution_count": 90,
      "id": "05c9a117",
      "metadata": {
        "execution": {
          "iopub.execute_input": "2022-11-24T06:52:33.611250Z",
          "iopub.status.busy": "2022-11-24T06:52:33.610821Z",
          "iopub.status.idle": "2022-11-24T06:52:33.618688Z",
          "shell.execute_reply": "2022-11-24T06:52:33.617427Z"
        },
        "papermill": {
          "duration": 0.027051,
          "end_time": "2022-11-24T06:52:33.621026",
          "exception": false,
          "start_time": "2022-11-24T06:52:33.593975",
          "status": "completed"
        },
        "tags": [],
        "id": "05c9a117"
      },
      "outputs": [],
      "source": [
        "x=train.drop(['tm'],axis=1)\n",
        "y=train['tm']"
      ]
    },
    {
      "cell_type": "code",
      "execution_count": 91,
      "id": "a8923928",
      "metadata": {
        "execution": {
          "iopub.execute_input": "2022-11-24T06:52:33.653849Z",
          "iopub.status.busy": "2022-11-24T06:52:33.653469Z",
          "iopub.status.idle": "2022-11-24T06:52:33.658171Z",
          "shell.execute_reply": "2022-11-24T06:52:33.657070Z"
        },
        "papermill": {
          "duration": 0.023884,
          "end_time": "2022-11-24T06:52:33.660446",
          "exception": false,
          "start_time": "2022-11-24T06:52:33.636562",
          "status": "completed"
        },
        "tags": [],
        "id": "a8923928"
      },
      "outputs": [],
      "source": [
        "from sklearn.model_selection import train_test_split"
      ]
    },
    {
      "cell_type": "code",
      "execution_count": 92,
      "id": "ad1d213f",
      "metadata": {
        "execution": {
          "iopub.execute_input": "2022-11-24T06:52:33.693375Z",
          "iopub.status.busy": "2022-11-24T06:52:33.692966Z",
          "iopub.status.idle": "2022-11-24T06:52:33.710861Z",
          "shell.execute_reply": "2022-11-24T06:52:33.709751Z"
        },
        "papermill": {
          "duration": 0.037374,
          "end_time": "2022-11-24T06:52:33.713482",
          "exception": false,
          "start_time": "2022-11-24T06:52:33.676108",
          "status": "completed"
        },
        "tags": [],
        "id": "ad1d213f"
      },
      "outputs": [],
      "source": [
        "x_train,x_valid,y_train,y_valid=train_test_split(x,y,test_size=0.20,random_state=42)"
      ]
    },
    {
      "cell_type": "code",
      "execution_count": 93,
      "id": "915e7ec3",
      "metadata": {
        "execution": {
          "iopub.execute_input": "2022-11-24T06:52:33.746050Z",
          "iopub.status.busy": "2022-11-24T06:52:33.745599Z",
          "iopub.status.idle": "2022-11-24T06:52:33.752326Z",
          "shell.execute_reply": "2022-11-24T06:52:33.751222Z"
        },
        "papermill": {
          "duration": 0.025567,
          "end_time": "2022-11-24T06:52:33.754476",
          "exception": false,
          "start_time": "2022-11-24T06:52:33.728909",
          "status": "completed"
        },
        "tags": [],
        "colab": {
          "base_uri": "https://localhost:8080/"
        },
        "id": "915e7ec3",
        "outputId": "63936eef-11da-48d7-882d-020a4e1450a8"
      },
      "outputs": [
        {
          "output_type": "execute_result",
          "data": {
            "text/plain": [
              "((25112, 22), (25112,))"
            ]
          },
          "metadata": {},
          "execution_count": 93
        }
      ],
      "source": [
        "x_train.shape,y_train.shape"
      ]
    },
    {
      "cell_type": "code",
      "execution_count": 94,
      "id": "a675605e",
      "metadata": {
        "execution": {
          "iopub.execute_input": "2022-11-24T06:52:33.787324Z",
          "iopub.status.busy": "2022-11-24T06:52:33.786916Z",
          "iopub.status.idle": "2022-11-24T06:52:33.872449Z",
          "shell.execute_reply": "2022-11-24T06:52:33.871504Z"
        },
        "papermill": {
          "duration": 0.105044,
          "end_time": "2022-11-24T06:52:33.874965",
          "exception": false,
          "start_time": "2022-11-24T06:52:33.769921",
          "status": "completed"
        },
        "tags": [],
        "id": "a675605e"
      },
      "outputs": [],
      "source": [
        "from sklearn.ensemble import RandomForestRegressor"
      ]
    },
    {
      "cell_type": "code",
      "execution_count": 95,
      "id": "854c9aec",
      "metadata": {
        "execution": {
          "iopub.execute_input": "2022-11-24T06:52:33.908333Z",
          "iopub.status.busy": "2022-11-24T06:52:33.907849Z",
          "iopub.status.idle": "2022-11-24T06:52:33.913489Z",
          "shell.execute_reply": "2022-11-24T06:52:33.912307Z"
        },
        "papermill": {
          "duration": 0.02499,
          "end_time": "2022-11-24T06:52:33.915828",
          "exception": false,
          "start_time": "2022-11-24T06:52:33.890838",
          "status": "completed"
        },
        "tags": [],
        "id": "854c9aec"
      },
      "outputs": [],
      "source": [
        "from sklearn.model_selection import RandomizedSearchCV\n",
        "from pprint import pprint"
      ]
    },
    {
      "cell_type": "code",
      "execution_count": 96,
      "id": "4782dbaf",
      "metadata": {
        "execution": {
          "iopub.execute_input": "2022-11-24T06:52:33.948891Z",
          "iopub.status.busy": "2022-11-24T06:52:33.948469Z",
          "iopub.status.idle": "2022-11-24T06:52:33.953663Z",
          "shell.execute_reply": "2022-11-24T06:52:33.952557Z"
        },
        "papermill": {
          "duration": 0.024292,
          "end_time": "2022-11-24T06:52:33.955858",
          "exception": false,
          "start_time": "2022-11-24T06:52:33.931566",
          "status": "completed"
        },
        "tags": [],
        "id": "4782dbaf"
      },
      "outputs": [],
      "source": [
        "rf = RandomForestRegressor()"
      ]
    },
    {
      "cell_type": "code",
      "execution_count": null,
      "id": "0c3af338",
      "metadata": {
        "execution": {
          "iopub.execute_input": "2022-11-24T06:52:33.989516Z",
          "iopub.status.busy": "2022-11-24T06:52:33.989119Z",
          "iopub.status.idle": "2022-11-24T06:52:33.995422Z",
          "shell.execute_reply": "2022-11-24T06:52:33.994244Z"
        },
        "papermill": {
          "duration": 0.027175,
          "end_time": "2022-11-24T06:52:33.998853",
          "exception": false,
          "start_time": "2022-11-24T06:52:33.971678",
          "status": "completed"
        },
        "tags": [],
        "id": "0c3af338"
      },
      "outputs": [],
      "source": [
        "from pprint import pprint\n",
        "\n",
        "pprint(rf.get_params())"
      ]
    },
    {
      "cell_type": "code",
      "execution_count": 99,
      "id": "dafb6964",
      "metadata": {
        "execution": {
          "iopub.execute_input": "2022-11-24T06:52:34.034045Z",
          "iopub.status.busy": "2022-11-24T06:52:34.033152Z",
          "iopub.status.idle": "2022-11-24T06:52:34.043237Z",
          "shell.execute_reply": "2022-11-24T06:52:34.041195Z"
        },
        "papermill": {
          "duration": 0.030417,
          "end_time": "2022-11-24T06:52:34.046304",
          "exception": false,
          "start_time": "2022-11-24T06:52:34.015887",
          "status": "completed"
        },
        "tags": [],
        "id": "dafb6964"
      },
      "outputs": [],
      "source": [
        "from scipy.stats import randint\n",
        "\n",
        "random_grid={'max_depth':list(np.arange(10, 100, step=10)),\n",
        "              'n_estimators':np.arange(10, 500, step=50),\n",
        "              'max_features':randint(1,7),\n",
        "              'min_samples_leaf':randint(1,4),\n",
        "              'min_samples_split':np.arange(2, 10, step=2)\n",
        "         }"
      ]
    },
    {
      "cell_type": "code",
      "execution_count": 100,
      "id": "997bf136",
      "metadata": {
        "execution": {
          "iopub.execute_input": "2022-11-24T06:52:34.089738Z",
          "iopub.status.busy": "2022-11-24T06:52:34.089175Z",
          "iopub.status.idle": "2022-11-24T06:52:34.100287Z",
          "shell.execute_reply": "2022-11-24T06:52:34.099037Z"
        },
        "papermill": {
          "duration": 0.038007,
          "end_time": "2022-11-24T06:52:34.103875",
          "exception": false,
          "start_time": "2022-11-24T06:52:34.065868",
          "status": "completed"
        },
        "tags": [],
        "colab": {
          "base_uri": "https://localhost:8080/"
        },
        "id": "997bf136",
        "outputId": "1defadec-e271-426e-b5a7-0a1ee65772c4"
      },
      "outputs": [
        {
          "output_type": "stream",
          "name": "stdout",
          "text": [
            "{'max_depth': [10, 20, 30, 40, 50, 60, 70, 80, 90],\n",
            " 'max_features': <scipy.stats._distn_infrastructure.rv_frozen object at 0x7fc9f08549d0>,\n",
            " 'min_samples_leaf': <scipy.stats._distn_infrastructure.rv_frozen object at 0x7fc9f1deb940>,\n",
            " 'min_samples_split': array([2, 4, 6, 8]),\n",
            " 'n_estimators': array([ 10,  60, 110, 160, 210, 260, 310, 360, 410, 460])}\n"
          ]
        }
      ],
      "source": [
        "pprint(random_grid)"
      ]
    },
    {
      "cell_type": "code",
      "execution_count": 101,
      "id": "29e0f8da",
      "metadata": {
        "execution": {
          "iopub.execute_input": "2022-11-24T06:52:34.146655Z",
          "iopub.status.busy": "2022-11-24T06:52:34.145801Z",
          "iopub.status.idle": "2022-11-24T07:01:02.376855Z",
          "shell.execute_reply": "2022-11-24T07:01:02.375239Z"
        },
        "papermill": {
          "duration": 508.272634,
          "end_time": "2022-11-24T07:01:02.395183",
          "exception": false,
          "start_time": "2022-11-24T06:52:34.122549",
          "status": "completed"
        },
        "tags": [],
        "colab": {
          "base_uri": "https://localhost:8080/"
        },
        "id": "29e0f8da",
        "outputId": "9f4b9957-f51b-4e14-bb72-48403856f9f3"
      },
      "outputs": [
        {
          "output_type": "stream",
          "name": "stdout",
          "text": [
            "Fitting 3 folds for each of 50 candidates, totalling 150 fits\n"
          ]
        },
        {
          "output_type": "stream",
          "name": "stderr",
          "text": [
            "/usr/local/lib/python3.8/dist-packages/joblib/externals/loky/process_executor.py:700: UserWarning: A worker stopped while some jobs were given to the executor. This can be caused by a too short worker timeout or by a memory leak.\n",
            "  warnings.warn(\n"
          ]
        },
        {
          "output_type": "execute_result",
          "data": {
            "text/plain": [
              "RandomizedSearchCV(cv=3, estimator=RandomForestRegressor(random_state=42),\n",
              "                   n_iter=50, n_jobs=-1,\n",
              "                   param_distributions={'max_depth': [10, 20, 30, 40, 50, 60,\n",
              "                                                      70, 80, 90],\n",
              "                                        'max_features': <scipy.stats._distn_infrastructure.rv_frozen object at 0x7fc9f08549d0>,\n",
              "                                        'min_samples_leaf': <scipy.stats._distn_infrastructure.rv_frozen object at 0x7fc9f1deb940>,\n",
              "                                        'min_samples_split': array([2, 4, 6, 8]),\n",
              "                                        'n_estimators': array([ 10,  60, 110, 160, 210, 260, 310, 360, 410, 460])},\n",
              "                   random_state=42, return_train_score=True,\n",
              "                   scoring='neg_mean_absolute_error', verbose=2)"
            ]
          },
          "metadata": {},
          "execution_count": 101
        }
      ],
      "source": [
        "\n",
        "rf = RandomForestRegressor(random_state = 42)\n",
        " \n",
        "rf_random = RandomizedSearchCV(estimator=rf, param_distributions=random_grid,\n",
        "                              n_iter = 50, scoring='neg_mean_absolute_error', \n",
        "                              cv =3, verbose=2, random_state=42, n_jobs=-1,\n",
        "                              return_train_score=True)\n",
        "\n",
        "# Fit the random search model\n",
        "rf_random.fit(x_train,y_train)"
      ]
    },
    {
      "cell_type": "code",
      "execution_count": 103,
      "id": "cd16a022",
      "metadata": {
        "execution": {
          "iopub.execute_input": "2022-11-24T07:01:02.431759Z",
          "iopub.status.busy": "2022-11-24T07:01:02.431282Z",
          "iopub.status.idle": "2022-11-24T07:01:03.197454Z",
          "shell.execute_reply": "2022-11-24T07:01:03.196255Z"
        },
        "papermill": {
          "duration": 0.787576,
          "end_time": "2022-11-24T07:01:03.199909",
          "exception": false,
          "start_time": "2022-11-24T07:01:02.412333",
          "status": "completed"
        },
        "tags": [],
        "colab": {
          "base_uri": "https://localhost:8080/"
        },
        "id": "cd16a022",
        "outputId": "5b1a66e2-494c-4acb-c90e-7be66d815bd3"
      },
      "outputs": [
        {
          "output_type": "execute_result",
          "data": {
            "text/plain": [
              "(6278,)"
            ]
          },
          "metadata": {},
          "execution_count": 103
        }
      ],
      "source": [
        "y_predict= rf_random.predict(x_valid)\n",
        "y_predict.shape"
      ]
    },
    {
      "cell_type": "code",
      "execution_count": 104,
      "id": "6dcca93e",
      "metadata": {
        "execution": {
          "iopub.execute_input": "2022-11-24T07:01:03.234839Z",
          "iopub.status.busy": "2022-11-24T07:01:03.234436Z",
          "iopub.status.idle": "2022-11-24T07:01:03.242141Z",
          "shell.execute_reply": "2022-11-24T07:01:03.240972Z"
        },
        "papermill": {
          "duration": 0.027915,
          "end_time": "2022-11-24T07:01:03.244446",
          "exception": false,
          "start_time": "2022-11-24T07:01:03.216531",
          "status": "completed"
        },
        "tags": [],
        "colab": {
          "base_uri": "https://localhost:8080/"
        },
        "id": "6dcca93e",
        "outputId": "6c7c25d9-49c8-4a55-ae51-1e9bf05443cf"
      },
      "outputs": [
        {
          "output_type": "execute_result",
          "data": {
            "text/plain": [
              "(2413, 22)"
            ]
          },
          "metadata": {},
          "execution_count": 104
        }
      ],
      "source": [
        "test.shape"
      ]
    },
    {
      "cell_type": "code",
      "execution_count": null,
      "id": "6ee94770",
      "metadata": {
        "execution": {
          "iopub.execute_input": "2022-11-24T07:01:03.280508Z",
          "iopub.status.busy": "2022-11-24T07:01:03.280107Z",
          "iopub.status.idle": "2022-11-24T07:01:03.710800Z",
          "shell.execute_reply": "2022-11-24T07:01:03.709852Z"
        },
        "papermill": {
          "duration": 0.452229,
          "end_time": "2022-11-24T07:01:03.713072",
          "exception": false,
          "start_time": "2022-11-24T07:01:03.260843",
          "status": "completed"
        },
        "tags": [],
        "id": "6ee94770"
      },
      "outputs": [],
      "source": [
        "# Density Plot and Histogram of all arrival delays\n",
        "sns.distplot(y_valid, hist=True, kde=True, \n",
        "             bins=int(180/5), color = 'darkblue', \n",
        "             hist_kws={'edgecolor':'black'},\n",
        "             kde_kws={'linewidth': 4})\n",
        "# Density Plot and Histogram of all arrival delays\n",
        "sns.distplot(y_predict, hist=True, kde=True, \n",
        "             bins=int(180/5), color = 'red', \n",
        "             hist_kws={'edgecolor':'green'},\n",
        "             kde_kws={'linewidth': 4})\n"
      ]
    },
    {
      "cell_type": "code",
      "execution_count": null,
      "id": "d25482ee",
      "metadata": {
        "execution": {
          "iopub.execute_input": "2022-11-24T07:01:03.748783Z",
          "iopub.status.busy": "2022-11-24T07:01:03.747875Z",
          "iopub.status.idle": "2022-11-24T07:01:03.758301Z",
          "shell.execute_reply": "2022-11-24T07:01:03.757214Z"
        },
        "papermill": {
          "duration": 0.030597,
          "end_time": "2022-11-24T07:01:03.760410",
          "exception": false,
          "start_time": "2022-11-24T07:01:03.729813",
          "status": "completed"
        },
        "tags": [],
        "id": "d25482ee"
      },
      "outputs": [],
      "source": [
        "from sklearn import metrics\n",
        "print('Mean Absolute Error:', metrics.mean_absolute_error(y_valid, y_predict))\n",
        "print('Mean Squared Error:', metrics.mean_squared_error(y_valid, y_predict))\n",
        "print('Root Mean Squared Error:', np.sqrt(metrics.mean_squared_error(y_valid, y_predict)))"
      ]
    },
    {
      "cell_type": "code",
      "execution_count": 50,
      "id": "8934c028",
      "metadata": {
        "execution": {
          "iopub.execute_input": "2022-11-24T07:01:03.888017Z",
          "iopub.status.busy": "2022-11-24T07:01:03.887593Z",
          "iopub.status.idle": "2022-11-24T07:01:03.893353Z",
          "shell.execute_reply": "2022-11-24T07:01:03.892130Z"
        },
        "papermill": {
          "duration": 0.026512,
          "end_time": "2022-11-24T07:01:03.895721",
          "exception": false,
          "start_time": "2022-11-24T07:01:03.869209",
          "status": "completed"
        },
        "tags": [],
        "id": "8934c028"
      },
      "outputs": [],
      "source": [
        "submission =pd.DataFrame()"
      ]
    },
    {
      "cell_type": "code",
      "execution_count": 107,
      "id": "118592b1",
      "metadata": {
        "execution": {
          "iopub.execute_input": "2022-11-24T07:01:03.932028Z",
          "iopub.status.busy": "2022-11-24T07:01:03.931602Z",
          "iopub.status.idle": "2022-11-24T07:01:03.938546Z",
          "shell.execute_reply": "2022-11-24T07:01:03.937698Z"
        },
        "papermill": {
          "duration": 0.027956,
          "end_time": "2022-11-24T07:01:03.940798",
          "exception": false,
          "start_time": "2022-11-24T07:01:03.912842",
          "status": "completed"
        },
        "tags": [],
        "id": "118592b1"
      },
      "outputs": [],
      "source": [
        "submission['seq_id']=test['seq_id']"
      ]
    },
    {
      "cell_type": "code",
      "execution_count": 108,
      "id": "880c810e",
      "metadata": {
        "execution": {
          "iopub.execute_input": "2022-11-24T07:01:03.978052Z",
          "iopub.status.busy": "2022-11-24T07:01:03.977264Z",
          "iopub.status.idle": "2022-11-24T07:01:04.065623Z",
          "shell.execute_reply": "2022-11-24T07:01:04.063947Z"
        },
        "papermill": {
          "duration": 0.110026,
          "end_time": "2022-11-24T07:01:04.068479",
          "exception": false,
          "start_time": "2022-11-24T07:01:03.958453",
          "status": "completed"
        },
        "tags": [],
        "id": "880c810e"
      },
      "outputs": [],
      "source": [
        "submission['tm'] =rf_random.predict(test)"
      ]
    },
    {
      "cell_type": "code",
      "execution_count": null,
      "id": "106fb356",
      "metadata": {
        "execution": {
          "iopub.execute_input": "2022-11-24T07:01:04.105828Z",
          "iopub.status.busy": "2022-11-24T07:01:04.105328Z",
          "iopub.status.idle": "2022-11-24T07:01:04.127966Z",
          "shell.execute_reply": "2022-11-24T07:01:04.127081Z"
        },
        "papermill": {
          "duration": 0.043763,
          "end_time": "2022-11-24T07:01:04.130142",
          "exception": false,
          "start_time": "2022-11-24T07:01:04.086379",
          "status": "completed"
        },
        "tags": [],
        "id": "106fb356"
      },
      "outputs": [],
      "source": [
        "submission.to_csv('submission.csv',index=False)\n",
        "submission"
      ]
    },
    {
      "cell_type": "code",
      "execution_count": 110,
      "id": "24837f12",
      "metadata": {
        "execution": {
          "iopub.execute_input": "2022-11-24T07:01:04.168269Z",
          "iopub.status.busy": "2022-11-24T07:01:04.167384Z",
          "iopub.status.idle": "2022-11-24T07:01:04.173392Z",
          "shell.execute_reply": "2022-11-24T07:01:04.172521Z"
        },
        "papermill": {
          "duration": 0.027848,
          "end_time": "2022-11-24T07:01:04.175446",
          "exception": false,
          "start_time": "2022-11-24T07:01:04.147598",
          "status": "completed"
        },
        "tags": [],
        "colab": {
          "base_uri": "https://localhost:8080/",
          "height": 34
        },
        "id": "24837f12",
        "outputId": "9dfeae1c-6a34-4118-a15b-3fb43fed8c1b"
      },
      "outputs": [
        {
          "output_type": "execute_result",
          "data": {
            "text/plain": [
              "/content/submission.csv"
            ],
            "text/html": [
              "<a href='submission.csv' target='_blank'>submission.csv</a><br>"
            ]
          },
          "metadata": {},
          "execution_count": 110
        }
      ],
      "source": [
        "from IPython.display import FileLink\n",
        "FileLink(r'submission.csv')"
      ]
    },
    {
      "cell_type": "code",
      "execution_count": null,
      "id": "7ad7dd2c",
      "metadata": {
        "papermill": {
          "duration": 0.017539,
          "end_time": "2022-11-24T07:01:04.211478",
          "exception": false,
          "start_time": "2022-11-24T07:01:04.193939",
          "status": "completed"
        },
        "tags": [],
        "id": "7ad7dd2c"
      },
      "outputs": [],
      "source": []
    }
  ],
  "metadata": {
    "kernelspec": {
      "display_name": "Python 3",
      "language": "python",
      "name": "python3"
    },
    "language_info": {
      "codemirror_mode": {
        "name": "ipython",
        "version": 3
      },
      "file_extension": ".py",
      "mimetype": "text/x-python",
      "name": "python",
      "nbconvert_exporter": "python",
      "pygments_lexer": "ipython3",
      "version": "3.7.12"
    },
    "papermill": {
      "default_parameters": {},
      "duration": 534.872282,
      "end_time": "2022-11-24T07:01:06.854032",
      "environment_variables": {},
      "exception": null,
      "input_path": "__notebook__.ipynb",
      "output_path": "__notebook__.ipynb",
      "parameters": {},
      "start_time": "2022-11-24T06:52:11.981750",
      "version": "2.3.4"
    },
    "colab": {
      "provenance": []
    }
  },
  "nbformat": 4,
  "nbformat_minor": 5
}